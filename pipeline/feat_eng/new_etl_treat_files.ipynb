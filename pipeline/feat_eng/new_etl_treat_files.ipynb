{
 "cells": [
  {
   "cell_type": "code",
   "execution_count": 9,
   "metadata": {},
   "outputs": [],
   "source": [
    "import re\n",
    "import os\n",
    "import glob\n",
    "import numpy as np\n",
    "import pandas as pd\n",
    "from unidecode import unidecode\n",
    "import sys\n",
    "import os\n",
    "\n",
    "\n",
    "sys.path.append(os.path.abspath(os.path.join(os.getcwd(), \"..\", \"..\")))\n",
    "\n"
   ]
  },
  {
   "cell_type": "code",
   "execution_count": 10,
   "metadata": {},
   "outputs": [],
   "source": [
    "from utils import remove_invalid_rows, clean_column_names,initial_cleaning, create_gender_df,final_adjustments"
   ]
  },
  {
   "cell_type": "code",
   "execution_count": 11,
   "metadata": {},
   "outputs": [],
   "source": [
    "# set pandas default rows/columns for better visualization\n",
    "pd.set_option('display.max_rows', None)\n",
    "pd.set_option('display.max_columns', None)\n"
   ]
  },
  {
   "cell_type": "code",
   "execution_count": 17,
   "metadata": {},
   "outputs": [],
   "source": [
    "\"\"\"\n",
    "In this section, the script locates the folders containing the necessary files, applies all required data transformations, and consolidates the processed information into a single file per year. This final dataset serves as the foundation for the subsequent phases of the project.\n",
    "\"\"\"\n",
    "\n",
    "\n",
    "\n",
    "if __name__ == '__main__':\n",
    "\n",
    "    # find all the files to loop\n",
    "    current_dir = os.getcwd()\n",
    "    base_dir = os.path.dirname(current_dir)  # Moves up one level\n",
    "    files_dir = os.path.join(base_dir, \"files\") \n",
    "\n",
    "    if not files_dir:\n",
    "        print(\"Error: 'files' directory not found.\")\n",
    "\n",
    "    # loop through every file in directory\n",
    "    for root, dirs, files in os.walk(files_dir):\n",
    "        final_file_name = \"\"\n",
    "        df_final = pd.DataFrame()\n",
    "        print(f\"Processing directory: {root}\")\n",
    "        os.chdir(root)\n",
    "        files_csv = glob.glob(\"*.csv\")\n",
    "        \n",
    "        if files_csv:\n",
    "            for file in files_csv:\n",
    "                print(f\"Processing file: {file}\")\n",
    "\n",
    "                # retrieve filename and infer the year from it\n",
    "                final_file_name = re.search(r'^[^0-9]+', file).group().rstrip('_')\n",
    "                year = re.search(r'\\d{4}', file).group()\n",
    "\n",
    "                # process the file: read, clean, adjust by gender\n",
    "                df = pd.read_csv(file, sep=\";\", encoding='latin-1', skiprows=1, header=[0])\n",
    "                df = initial_cleaning(df)\n",
    "                df_female = create_gender_df(df, year, \"Feminino\")\n",
    "                df_male = create_gender_df(df, year, \"Masculino\")\n",
    "                df_final = pd.concat([df_final, df_female, df_male])\n",
    "                \n",
    "            # final adjustments\n",
    "            df_final = final_adjustments(df_final)\n",
    "            \n",
    "            print(f\"Saving final file: {final_file_name}.csv\")\n",
    "            df_final.to_csv(f'{final_file_name}.csv', index=False)\n",
    "            print(f\"Processing completed for: {final_file_name}\")\n"
   ]
  },
  {
   "cell_type": "markdown",
   "metadata": {},
   "source": []
  }
 ],
 "metadata": {
  "kernelspec": {
   "display_name": "Python 3",
   "language": "python",
   "name": "python3"
  },
  "language_info": {
   "codemirror_mode": {
    "name": "ipython",
    "version": 3
   },
   "file_extension": ".py",
   "mimetype": "text/x-python",
   "name": "python",
   "nbconvert_exporter": "python",
   "pygments_lexer": "ipython3",
   "version": "3.11.5"
  }
 },
 "nbformat": 4,
 "nbformat_minor": 2
}
