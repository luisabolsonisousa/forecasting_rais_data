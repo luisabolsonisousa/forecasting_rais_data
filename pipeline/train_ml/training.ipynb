{
 "cells": [
  {
   "cell_type": "code",
   "execution_count": 31,
   "metadata": {},
   "outputs": [],
   "source": [
    "import pandas as pd\n",
    "import numpy as np\n",
    "from sklearn.preprocessing import OneHotEncoder, LabelEncoder\n",
    "from sklearn.model_selection import train_test_split, cross_val_score, StratifiedKFold\n",
    "from sklearn.linear_model import LogisticRegression\n",
    "from sklearn.metrics import accuracy_score, classification_report, confusion_matrix\n",
    "import matplotlib.pyplot as plt\n",
    "import seaborn as sns\n",
    "import datetime"
   ]
  },
  {
   "cell_type": "code",
   "execution_count": 32,
   "metadata": {},
   "outputs": [],
   "source": [
    "df = pd.read_csv(\"/Users/bolsolui/Library/CloudStorage/OneDrive-adidas/Documents/personal/github/forecasting_rais_data/pipeline/files/escolaridade/escolaridade.csv\")\n",
    "df = df[df[\"ano\"]==2021]\n",
    "df = pd.get_dummies(df, columns=[\"sexo\"])"
   ]
  },
  {
   "cell_type": "code",
   "execution_count": 33,
   "metadata": {},
   "outputs": [],
   "source": [
    "\n",
    "# Define salary groupings\n",
    "df[\"salary_group\"] = pd.cut(\n",
    "    df[\"sm_code\"],\n",
    "    bins=[-1, 3, 7, 11],\n",
    "    labels=[1, 2, 3]\n",
    ")"
   ]
  },
  {
   "cell_type": "code",
   "execution_count": 34,
   "metadata": {},
   "outputs": [
    {
     "data": {
      "text/html": [
       "<div>\n",
       "<style scoped>\n",
       "    .dataframe tbody tr th:only-of-type {\n",
       "        vertical-align: middle;\n",
       "    }\n",
       "\n",
       "    .dataframe tbody tr th {\n",
       "        vertical-align: top;\n",
       "    }\n",
       "\n",
       "    .dataframe thead th {\n",
       "        text-align: right;\n",
       "    }\n",
       "</style>\n",
       "<table border=\"1\" class=\"dataframe\">\n",
       "  <thead>\n",
       "    <tr style=\"text-align: right;\">\n",
       "      <th></th>\n",
       "      <th>capital</th>\n",
       "      <th>faixa_remuneracao_media_sm</th>\n",
       "      <th>Analfabeto</th>\n",
       "      <th>Até 5ª Incompleto</th>\n",
       "      <th>5ª Completo Fundamental</th>\n",
       "      <th>6ª a 9ª Fundamental</th>\n",
       "      <th>Fundamental Completo</th>\n",
       "      <th>Médio Incompleto</th>\n",
       "      <th>Médio Completo</th>\n",
       "      <th>Superior Incompleto</th>\n",
       "      <th>Superior Completo</th>\n",
       "      <th>Mestrado</th>\n",
       "      <th>Doutorado</th>\n",
       "      <th>ano</th>\n",
       "      <th>capital_code</th>\n",
       "      <th>sm_code</th>\n",
       "      <th>sexo_F</th>\n",
       "      <th>sexo_M</th>\n",
       "      <th>salary_group</th>\n",
       "    </tr>\n",
       "  </thead>\n",
       "  <tbody>\n",
       "    <tr>\n",
       "      <th>7128</th>\n",
       "      <td>porto_velho</td>\n",
       "      <td>ate_0,50</td>\n",
       "      <td>4</td>\n",
       "      <td>2</td>\n",
       "      <td>2</td>\n",
       "      <td>30</td>\n",
       "      <td>16</td>\n",
       "      <td>203</td>\n",
       "      <td>257</td>\n",
       "      <td>14</td>\n",
       "      <td>49</td>\n",
       "      <td>0</td>\n",
       "      <td>0</td>\n",
       "      <td>2021</td>\n",
       "      <td>ro</td>\n",
       "      <td>0</td>\n",
       "      <td>True</td>\n",
       "      <td>False</td>\n",
       "      <td>1</td>\n",
       "    </tr>\n",
       "    <tr>\n",
       "      <th>7129</th>\n",
       "      <td>porto_velho</td>\n",
       "      <td>0,51_a_1,00</td>\n",
       "      <td>8</td>\n",
       "      <td>27</td>\n",
       "      <td>29</td>\n",
       "      <td>75</td>\n",
       "      <td>182</td>\n",
       "      <td>321</td>\n",
       "      <td>2198</td>\n",
       "      <td>168</td>\n",
       "      <td>299</td>\n",
       "      <td>5</td>\n",
       "      <td>4</td>\n",
       "      <td>2021</td>\n",
       "      <td>ro</td>\n",
       "      <td>1</td>\n",
       "      <td>True</td>\n",
       "      <td>False</td>\n",
       "      <td>1</td>\n",
       "    </tr>\n",
       "    <tr>\n",
       "      <th>7130</th>\n",
       "      <td>porto_velho</td>\n",
       "      <td>1,01_a_1,50</td>\n",
       "      <td>48</td>\n",
       "      <td>134</td>\n",
       "      <td>155</td>\n",
       "      <td>357</td>\n",
       "      <td>722</td>\n",
       "      <td>852</td>\n",
       "      <td>11840</td>\n",
       "      <td>704</td>\n",
       "      <td>1413</td>\n",
       "      <td>11</td>\n",
       "      <td>1</td>\n",
       "      <td>2021</td>\n",
       "      <td>ro</td>\n",
       "      <td>2</td>\n",
       "      <td>True</td>\n",
       "      <td>False</td>\n",
       "      <td>1</td>\n",
       "    </tr>\n",
       "    <tr>\n",
       "      <th>7131</th>\n",
       "      <td>porto_velho</td>\n",
       "      <td>1,51_a_2,00</td>\n",
       "      <td>11</td>\n",
       "      <td>79</td>\n",
       "      <td>79</td>\n",
       "      <td>204</td>\n",
       "      <td>350</td>\n",
       "      <td>369</td>\n",
       "      <td>5196</td>\n",
       "      <td>307</td>\n",
       "      <td>1387</td>\n",
       "      <td>18</td>\n",
       "      <td>4</td>\n",
       "      <td>2021</td>\n",
       "      <td>ro</td>\n",
       "      <td>3</td>\n",
       "      <td>True</td>\n",
       "      <td>False</td>\n",
       "      <td>1</td>\n",
       "    </tr>\n",
       "    <tr>\n",
       "      <th>7132</th>\n",
       "      <td>porto_velho</td>\n",
       "      <td>2,01_a_3,00</td>\n",
       "      <td>7</td>\n",
       "      <td>331</td>\n",
       "      <td>54</td>\n",
       "      <td>156</td>\n",
       "      <td>655</td>\n",
       "      <td>98</td>\n",
       "      <td>3710</td>\n",
       "      <td>324</td>\n",
       "      <td>3757</td>\n",
       "      <td>31</td>\n",
       "      <td>14</td>\n",
       "      <td>2021</td>\n",
       "      <td>ro</td>\n",
       "      <td>4</td>\n",
       "      <td>True</td>\n",
       "      <td>False</td>\n",
       "      <td>2</td>\n",
       "    </tr>\n",
       "  </tbody>\n",
       "</table>\n",
       "</div>"
      ],
      "text/plain": [
       "          capital faixa_remuneracao_media_sm  Analfabeto  Até 5ª Incompleto  \\\n",
       "7128  porto_velho                   ate_0,50           4                  2   \n",
       "7129  porto_velho                0,51_a_1,00           8                 27   \n",
       "7130  porto_velho                1,01_a_1,50          48                134   \n",
       "7131  porto_velho                1,51_a_2,00          11                 79   \n",
       "7132  porto_velho                2,01_a_3,00           7                331   \n",
       "\n",
       "      5ª Completo Fundamental  6ª a 9ª Fundamental  Fundamental Completo  \\\n",
       "7128                        2                   30                    16   \n",
       "7129                       29                   75                   182   \n",
       "7130                      155                  357                   722   \n",
       "7131                       79                  204                   350   \n",
       "7132                       54                  156                   655   \n",
       "\n",
       "      Médio Incompleto  Médio Completo  Superior Incompleto  \\\n",
       "7128               203             257                   14   \n",
       "7129               321            2198                  168   \n",
       "7130               852           11840                  704   \n",
       "7131               369            5196                  307   \n",
       "7132                98            3710                  324   \n",
       "\n",
       "      Superior Completo  Mestrado  Doutorado   ano capital_code  sm_code  \\\n",
       "7128                 49         0          0  2021           ro        0   \n",
       "7129                299         5          4  2021           ro        1   \n",
       "7130               1413        11          1  2021           ro        2   \n",
       "7131               1387        18          4  2021           ro        3   \n",
       "7132               3757        31         14  2021           ro        4   \n",
       "\n",
       "      sexo_F  sexo_M salary_group  \n",
       "7128    True   False            1  \n",
       "7129    True   False            1  \n",
       "7130    True   False            1  \n",
       "7131    True   False            1  \n",
       "7132    True   False            2  "
      ]
     },
     "execution_count": 34,
     "metadata": {},
     "output_type": "execute_result"
    }
   ],
   "source": [
    "df.head()"
   ]
  },
  {
   "cell_type": "code",
   "execution_count": 35,
   "metadata": {},
   "outputs": [],
   "source": [
    "cols_to_drop = ['Até 5ª Incompleto',\n",
    " '5ª Completo Fundamental',\n",
    " '6ª a 9ª Fundamental',\n",
    " 'Fundamental Completo',\n",
    " 'Médio Incompleto',\n",
    " \"ano\",\n",
    " \"capital\",\n",
    " \"faixa_remuneracao_media_sm\",\n",
    " \"capital_code\",\n",
    " \"sm_code\"\n",
    "\n",
    " ]"
   ]
  },
  {
   "cell_type": "code",
   "execution_count": 36,
   "metadata": {},
   "outputs": [],
   "source": [
    "df = df.drop(columns=cols_to_drop)"
   ]
  },
  {
   "cell_type": "code",
   "execution_count": 49,
   "metadata": {},
   "outputs": [
    {
     "data": {
      "text/plain": [
       "Index(['sexo_F', 'sexo_M', 'salary_group', 'Escolaridade_Analfabeto',\n",
       "       'Escolaridade_Doutorado', 'Escolaridade_Mestrado',\n",
       "       'Escolaridade_Médio Completo', 'Escolaridade_Superior Completo',\n",
       "       'Escolaridade_Superior Incompleto'],\n",
       "      dtype='object')"
      ]
     },
     "execution_count": 49,
     "metadata": {},
     "output_type": "execute_result"
    }
   ],
   "source": [
    "df.columns"
   ]
  },
  {
   "cell_type": "code",
   "execution_count": 37,
   "metadata": {},
   "outputs": [
    {
     "data": {
      "text/html": [
       "<div>\n",
       "<style scoped>\n",
       "    .dataframe tbody tr th:only-of-type {\n",
       "        vertical-align: middle;\n",
       "    }\n",
       "\n",
       "    .dataframe tbody tr th {\n",
       "        vertical-align: top;\n",
       "    }\n",
       "\n",
       "    .dataframe thead th {\n",
       "        text-align: right;\n",
       "    }\n",
       "</style>\n",
       "<table border=\"1\" class=\"dataframe\">\n",
       "  <thead>\n",
       "    <tr style=\"text-align: right;\">\n",
       "      <th></th>\n",
       "      <th>sexo_F</th>\n",
       "      <th>sexo_M</th>\n",
       "      <th>salary_group</th>\n",
       "      <th>Escolaridade_Analfabeto</th>\n",
       "      <th>Escolaridade_Doutorado</th>\n",
       "      <th>Escolaridade_Mestrado</th>\n",
       "      <th>Escolaridade_Médio Completo</th>\n",
       "      <th>Escolaridade_Superior Completo</th>\n",
       "      <th>Escolaridade_Superior Incompleto</th>\n",
       "    </tr>\n",
       "  </thead>\n",
       "  <tbody>\n",
       "    <tr>\n",
       "      <th>0</th>\n",
       "      <td>True</td>\n",
       "      <td>False</td>\n",
       "      <td>1</td>\n",
       "      <td>1</td>\n",
       "      <td>0</td>\n",
       "      <td>0</td>\n",
       "      <td>0</td>\n",
       "      <td>0</td>\n",
       "      <td>0</td>\n",
       "    </tr>\n",
       "    <tr>\n",
       "      <th>1</th>\n",
       "      <td>True</td>\n",
       "      <td>False</td>\n",
       "      <td>1</td>\n",
       "      <td>1</td>\n",
       "      <td>0</td>\n",
       "      <td>0</td>\n",
       "      <td>0</td>\n",
       "      <td>0</td>\n",
       "      <td>0</td>\n",
       "    </tr>\n",
       "    <tr>\n",
       "      <th>2</th>\n",
       "      <td>True</td>\n",
       "      <td>False</td>\n",
       "      <td>1</td>\n",
       "      <td>1</td>\n",
       "      <td>0</td>\n",
       "      <td>0</td>\n",
       "      <td>0</td>\n",
       "      <td>0</td>\n",
       "      <td>0</td>\n",
       "    </tr>\n",
       "    <tr>\n",
       "      <th>3</th>\n",
       "      <td>True</td>\n",
       "      <td>False</td>\n",
       "      <td>1</td>\n",
       "      <td>1</td>\n",
       "      <td>0</td>\n",
       "      <td>0</td>\n",
       "      <td>0</td>\n",
       "      <td>0</td>\n",
       "      <td>0</td>\n",
       "    </tr>\n",
       "    <tr>\n",
       "      <th>4</th>\n",
       "      <td>True</td>\n",
       "      <td>False</td>\n",
       "      <td>1</td>\n",
       "      <td>1</td>\n",
       "      <td>0</td>\n",
       "      <td>0</td>\n",
       "      <td>0</td>\n",
       "      <td>0</td>\n",
       "      <td>0</td>\n",
       "    </tr>\n",
       "  </tbody>\n",
       "</table>\n",
       "</div>"
      ],
      "text/plain": [
       "   sexo_F  sexo_M salary_group  Escolaridade_Analfabeto  \\\n",
       "0    True   False            1                        1   \n",
       "1    True   False            1                        1   \n",
       "2    True   False            1                        1   \n",
       "3    True   False            1                        1   \n",
       "4    True   False            1                        1   \n",
       "\n",
       "   Escolaridade_Doutorado  Escolaridade_Mestrado  Escolaridade_Médio Completo  \\\n",
       "0                       0                      0                            0   \n",
       "1                       0                      0                            0   \n",
       "2                       0                      0                            0   \n",
       "3                       0                      0                            0   \n",
       "4                       0                      0                            0   \n",
       "\n",
       "   Escolaridade_Superior Completo  Escolaridade_Superior Incompleto  \n",
       "0                               0                                 0  \n",
       "1                               0                                 0  \n",
       "2                               0                                 0  \n",
       "3                               0                                 0  \n",
       "4                               0                                 0  "
      ]
     },
     "execution_count": 37,
     "metadata": {},
     "output_type": "execute_result"
    }
   ],
   "source": [
    "#transforming row data instead group - to model perform better\n",
    "df_expanded = df.melt(id_vars=[\"sexo_F\", \"sexo_M\", \"salary_group\"], \n",
    "                       var_name=\"Escolaridade\", \n",
    "                       value_name=\"Quantidade\")\n",
    "\n",
    "\n",
    "df_expanded = df_expanded.loc[df_expanded.index.repeat(df_expanded[\"Quantidade\"])].drop(columns=[\"Quantidade\"])\n",
    "\n",
    "df = pd.get_dummies(df_expanded, columns=[\"Escolaridade\"], dtype=int)\n",
    "\n",
    "df.reset_index(drop=True, inplace=True)\n",
    "\n",
    "\n",
    "df.head()\n"
   ]
  },
  {
   "cell_type": "code",
   "execution_count": 38,
   "metadata": {},
   "outputs": [
    {
     "data": {
      "text/plain": [
       "((11853492, 8), (2963373, 8), (11853492,), (2963373,))"
      ]
     },
     "execution_count": 38,
     "metadata": {},
     "output_type": "execute_result"
    }
   ],
   "source": [
    "X = df.drop(columns=[\"salary_group\"])  \n",
    "y = df[\"salary_group\"] \n",
    "\n",
    "# Split data (80% train, 20% test)\n",
    "X_train, X_test, y_train, y_test = train_test_split(\n",
    "    X, y, test_size=0.2, random_state=42, stratify=y\n",
    ")\n",
    "\n",
    "\n",
    "X_train.shape, X_test.shape, y_train.shape, y_test.shape\n"
   ]
  },
  {
   "cell_type": "code",
   "execution_count": 39,
   "metadata": {},
   "outputs": [
    {
     "data": {
      "text/plain": [
       "(array([[ 0.30308268, -0.25487313,  1.53641514, -1.48192486, -1.07394372,\n",
       "          1.31447378, -0.76772846,  0.52091766],\n",
       "        [ 0.16577463,  0.1310038 , -0.05295426, -0.17982122,  0.05206773,\n",
       "          0.09541589,  0.17303241,  0.20903789],\n",
       "        [-0.46885731,  0.12386933, -1.48346089,  1.66174607,  1.02187599,\n",
       "         -1.40988967,  0.59469606, -0.72995555]]),\n",
       " array([ 0.04823062,  0.29692703, -0.34515765]))"
      ]
     },
     "execution_count": 39,
     "metadata": {},
     "output_type": "execute_result"
    }
   ],
   "source": [
    "\n",
    "model = LogisticRegression(multi_class=\"multinomial\", solver=\"lbfgs\", max_iter=1000)\n",
    "\n",
    "model.fit(X_train, y_train)\n",
    "\n",
    "model.coef_, model.intercept_\n"
   ]
  },
  {
   "cell_type": "code",
   "execution_count": 40,
   "metadata": {},
   "outputs": [
    {
     "data": {
      "text/plain": [
       "array([[1165029,  200212,    3158],\n",
       "       [ 535820,  628339,   11947],\n",
       "       [  52535,  344531,   21802]])"
      ]
     },
     "execution_count": 40,
     "metadata": {},
     "output_type": "execute_result"
    }
   ],
   "source": [
    "\n",
    "y_pred = model.predict(X_test)\n",
    "\n",
    "accuracy = accuracy_score(y_test, y_pred)\n",
    "\n",
    "conf_matrix = confusion_matrix(y_test, y_pred)\n",
    "\n",
    "#precision, recall, F1-score\n",
    "class_report = classification_report(y_test, y_pred)\n",
    "\n",
    "conf_matrix\n"
   ]
  },
  {
   "cell_type": "code",
   "execution_count": 41,
   "metadata": {},
   "outputs": [
    {
     "data": {
      "image/png": "[encoded data removed]",
      "text/plain": [
       "<Figure size 800x600 with 2 Axes>"
      ]
     },
     "metadata": {},
     "output_type": "display_data"
    }
   ],
   "source": [
    "class_labels = [\"Low Salary\", \"Medium Salary\", \"High Salary\"]\n",
    "df_conf_matrix = pd.DataFrame(conf_matrix, index=class_labels, columns=class_labels)\n",
    "\n",
    "\n",
    "plt.figure(figsize=(8, 6))\n",
    "sns.heatmap(df_conf_matrix, annot=True, fmt=\"d\", cmap=\"Blues\", linewidths=0.5)\n",
    "plt.xlabel(\"Predicted Label\")\n",
    "plt.ylabel(\"True Label\")\n",
    "plt.title(\"Confusion Matrix for Salary Classification\")\n",
    "plt.show()\n"
   ]
  },
  {
   "cell_type": "code",
   "execution_count": 42,
   "metadata": {},
   "outputs": [
    {
     "data": {
      "text/plain": [
       "0.6125351077977697"
      ]
     },
     "execution_count": 42,
     "metadata": {},
     "output_type": "execute_result"
    }
   ],
   "source": [
    "accuracy"
   ]
  },
  {
   "cell_type": "code",
   "execution_count": 43,
   "metadata": {},
   "outputs": [
    {
     "data": {
      "text/html": [
       "<div>\n",
       "<style scoped>\n",
       "    .dataframe tbody tr th:only-of-type {\n",
       "        vertical-align: middle;\n",
       "    }\n",
       "\n",
       "    .dataframe tbody tr th {\n",
       "        vertical-align: top;\n",
       "    }\n",
       "\n",
       "    .dataframe thead th {\n",
       "        text-align: right;\n",
       "    }\n",
       "</style>\n",
       "<table border=\"1\" class=\"dataframe\">\n",
       "  <thead>\n",
       "    <tr style=\"text-align: right;\">\n",
       "      <th></th>\n",
       "      <th>precision</th>\n",
       "      <th>recall</th>\n",
       "      <th>f1-score</th>\n",
       "    </tr>\n",
       "  </thead>\n",
       "  <tbody>\n",
       "    <tr>\n",
       "      <th>1 (Low Salary)</th>\n",
       "      <td>66.4%</td>\n",
       "      <td>85.1%</td>\n",
       "      <td>74.6%</td>\n",
       "    </tr>\n",
       "    <tr>\n",
       "      <th>2 (Medium Salary)</th>\n",
       "      <td>53.6%</td>\n",
       "      <td>53.4%</td>\n",
       "      <td>53.5%</td>\n",
       "    </tr>\n",
       "    <tr>\n",
       "      <th>3 (High Salary)</th>\n",
       "      <td>59.1%</td>\n",
       "      <td>5.2%</td>\n",
       "      <td>9.6%</td>\n",
       "    </tr>\n",
       "  </tbody>\n",
       "</table>\n",
       "</div>"
      ],
      "text/plain": [
       "                  precision recall f1-score\n",
       "1 (Low Salary)        66.4%  85.1%    74.6%\n",
       "2 (Medium Salary)     53.6%  53.4%    53.5%\n",
       "3 (High Salary)       59.1%   5.2%     9.6%"
      ]
     },
     "execution_count": 43,
     "metadata": {},
     "output_type": "execute_result"
    }
   ],
   "source": [
    "\n",
    "report_dict = classification_report(y_test, y_pred, output_dict=True)\n",
    "\n",
    "\n",
    "df_report = pd.DataFrame(report_dict).T.iloc[:3, :3] \n",
    "\n",
    "df_report.index = [\"1 (Low Salary)\", \"2 (Medium Salary)\", \"3 (High Salary)\"]\n",
    "\n",
    "df_report = df_report * 100\n",
    "df_report = df_report.round(1).astype(str) + \"%\"\n",
    "df_report\n"
   ]
  },
  {
   "cell_type": "markdown",
   "metadata": {},
   "source": [
    "✅ Precision (Precisão) → Das previsões feitas para cada classe, quantas estavam corretas?\n",
    "\n",
    "✅ Recall (Revocação) → De todos os valores reais dessa classe, quantos foram corretamente previstos?\n",
    "\n",
    "✅ F1-Score → Média harmônica entre precisão e recall (equilíbrio entre os dois)."
   ]
  },
  {
   "cell_type": "code",
   "execution_count": 44,
   "metadata": {},
   "outputs": [
    {
     "data": {
      "image/png": "[encoded data removed]",
      "text/plain": [
       "<Figure size 1000x500 with 1 Axes>"
      ]
     },
     "metadata": {},
     "output_type": "display_data"
    }
   ],
   "source": [
    "feature_importance = np.mean(np.abs(model.coef_), axis=0)\n",
    "\n",
    "feature_names = X_train.columns\n",
    "importance_df = pd.DataFrame({\"Feature\": feature_names, \"Importance\": feature_importance})\n",
    "\n",
    "importance_df = importance_df.sort_values(by=\"Importance\", ascending=False)\n",
    "\n",
    "\n",
    "plt.figure(figsize=(10, 5))\n",
    "plt.barh(importance_df[\"Feature\"], importance_df[\"Importance\"], color=\"royalblue\")\n",
    "plt.xlabel(\"Feature Importance (Absolute Coefficients)\")\n",
    "plt.ylabel(\"Features\")\n",
    "plt.title(\"Feature Importance for Salary Group Prediction\")\n",
    "plt.gca().invert_yaxis()  \n",
    "plt.show()\n"
   ]
  },
  {
   "cell_type": "code",
   "execution_count": 20,
   "metadata": {},
   "outputs": [
    {
     "data": {
      "text/html": [
       "<div>\n",
       "<style scoped>\n",
       "    .dataframe tbody tr th:only-of-type {\n",
       "        vertical-align: middle;\n",
       "    }\n",
       "\n",
       "    .dataframe tbody tr th {\n",
       "        vertical-align: top;\n",
       "    }\n",
       "\n",
       "    .dataframe thead th {\n",
       "        text-align: right;\n",
       "    }\n",
       "</style>\n",
       "<table border=\"1\" class=\"dataframe\">\n",
       "  <thead>\n",
       "    <tr style=\"text-align: right;\">\n",
       "      <th></th>\n",
       "      <th>Low Salary</th>\n",
       "      <th>Medium Salary</th>\n",
       "      <th>High Salary</th>\n",
       "    </tr>\n",
       "  </thead>\n",
       "  <tbody>\n",
       "    <tr>\n",
       "      <th>sexo_F</th>\n",
       "      <td>1.354026</td>\n",
       "      <td>1.180307</td>\n",
       "      <td>0.625717</td>\n",
       "    </tr>\n",
       "    <tr>\n",
       "      <th>sexo_M</th>\n",
       "      <td>0.775015</td>\n",
       "      <td>1.139972</td>\n",
       "      <td>1.131868</td>\n",
       "    </tr>\n",
       "    <tr>\n",
       "      <th>Escolaridade_Analfabeto</th>\n",
       "      <td>4.647898</td>\n",
       "      <td>0.948423</td>\n",
       "      <td>0.226851</td>\n",
       "    </tr>\n",
       "    <tr>\n",
       "      <th>Escolaridade_Doutorado</th>\n",
       "      <td>0.227200</td>\n",
       "      <td>0.835420</td>\n",
       "      <td>5.268502</td>\n",
       "    </tr>\n",
       "    <tr>\n",
       "      <th>Escolaridade_Mestrado</th>\n",
       "      <td>0.341658</td>\n",
       "      <td>1.053447</td>\n",
       "      <td>2.778402</td>\n",
       "    </tr>\n",
       "    <tr>\n",
       "      <th>Escolaridade_Médio Completo</th>\n",
       "      <td>3.722791</td>\n",
       "      <td>1.100116</td>\n",
       "      <td>0.244170</td>\n",
       "    </tr>\n",
       "    <tr>\n",
       "      <th>Escolaridade_Superior Completo</th>\n",
       "      <td>0.464066</td>\n",
       "      <td>1.188905</td>\n",
       "      <td>1.812480</td>\n",
       "    </tr>\n",
       "    <tr>\n",
       "      <th>Escolaridade_Superior Incompleto</th>\n",
       "      <td>1.683572</td>\n",
       "      <td>1.232492</td>\n",
       "      <td>0.481930</td>\n",
       "    </tr>\n",
       "  </tbody>\n",
       "</table>\n",
       "</div>"
      ],
      "text/plain": [
       "                                  Low Salary  Medium Salary  High Salary\n",
       "sexo_F                              1.354026       1.180307     0.625717\n",
       "sexo_M                              0.775015       1.139972     1.131868\n",
       "Escolaridade_Analfabeto             4.647898       0.948423     0.226851\n",
       "Escolaridade_Doutorado              0.227200       0.835420     5.268502\n",
       "Escolaridade_Mestrado               0.341658       1.053447     2.778402\n",
       "Escolaridade_Médio Completo         3.722791       1.100116     0.244170\n",
       "Escolaridade_Superior Completo      0.464066       1.188905     1.812480\n",
       "Escolaridade_Superior Incompleto    1.683572       1.232492     0.481930"
      ]
     },
     "execution_count": 20,
     "metadata": {},
     "output_type": "execute_result"
    }
   ],
   "source": [
    "\n",
    "odds_ratios = np.exp(model.coef_)\n",
    "\n",
    "feature_names = X_train.columns\n",
    "odds_df = pd.DataFrame(odds_ratios.T, index=feature_names, columns=[\"Low Salary\", \"Medium Salary\", \"High Salary\"])\n",
    "\n",
    "odds_df"
   ]
  },
  {
   "cell_type": "code",
   "execution_count": 45,
   "metadata": {},
   "outputs": [
    {
     "data": {
      "text/plain": [
       "(0.6126139368888087, 0.00018921251818586126)"
      ]
     },
     "execution_count": 45,
     "metadata": {},
     "output_type": "execute_result"
    }
   ],
   "source": [
    "#Cross validation\n",
    "cv = StratifiedKFold(n_splits=5, shuffle=True, random_state=42)\n",
    "\n",
    "model = LogisticRegression(multi_class=\"multinomial\", solver=\"lbfgs\", max_iter=1000)\n",
    "cv_scores = cross_val_score(model, X, y, cv=cv, scoring=\"accuracy\")\n",
    "\n",
    "cv_mean = np.mean(cv_scores)\n",
    "cv_std = np.std(cv_scores)\n",
    "\n",
    "cv_mean, cv_std\n"
   ]
  },
  {
   "cell_type": "code",
   "execution_count": 46,
   "metadata": {},
   "outputs": [
    {
     "data": {
      "text/html": [
       "<div>\n",
       "<style scoped>\n",
       "    .dataframe tbody tr th:only-of-type {\n",
       "        vertical-align: middle;\n",
       "    }\n",
       "\n",
       "    .dataframe tbody tr th {\n",
       "        vertical-align: top;\n",
       "    }\n",
       "\n",
       "    .dataframe thead th {\n",
       "        text-align: right;\n",
       "    }\n",
       "</style>\n",
       "<table border=\"1\" class=\"dataframe\">\n",
       "  <thead>\n",
       "    <tr style=\"text-align: right;\">\n",
       "      <th></th>\n",
       "      <th>timestamp</th>\n",
       "      <th>accuracy</th>\n",
       "      <th>precision_low</th>\n",
       "      <th>recall_low</th>\n",
       "      <th>f1_low</th>\n",
       "      <th>precision_medium</th>\n",
       "      <th>recall_medium</th>\n",
       "      <th>f1_medium</th>\n",
       "      <th>precision_high</th>\n",
       "      <th>recall_high</th>\n",
       "      <th>f1_high</th>\n",
       "      <th>cv_mean_accuracy</th>\n",
       "      <th>cv_std_accuracy</th>\n",
       "    </tr>\n",
       "  </thead>\n",
       "  <tbody>\n",
       "    <tr>\n",
       "      <th>0</th>\n",
       "      <td>2025-02-15 23:58:54</td>\n",
       "      <td>0.612535</td>\n",
       "      <td>0.664446</td>\n",
       "      <td>0.851381</td>\n",
       "      <td>0.746387</td>\n",
       "      <td>0.535631</td>\n",
       "      <td>0.534254</td>\n",
       "      <td>0.534941</td>\n",
       "      <td>0.590728</td>\n",
       "      <td>0.05205</td>\n",
       "      <td>0.09567</td>\n",
       "      <td>0.612614</td>\n",
       "      <td>0.000189</td>\n",
       "    </tr>\n",
       "  </tbody>\n",
       "</table>\n",
       "</div>"
      ],
      "text/plain": [
       "             timestamp  accuracy  precision_low  recall_low    f1_low  \\\n",
       "0  2025-02-15 23:58:54  0.612535       0.664446    0.851381  0.746387   \n",
       "\n",
       "   precision_medium  recall_medium  f1_medium  precision_high  recall_high  \\\n",
       "0          0.535631       0.534254   0.534941        0.590728      0.05205   \n",
       "\n",
       "   f1_high  cv_mean_accuracy  cv_std_accuracy  \n",
       "0  0.09567          0.612614         0.000189  "
      ]
     },
     "execution_count": 46,
     "metadata": {},
     "output_type": "execute_result"
    }
   ],
   "source": [
    "#traking data\n",
    "performance_data = {\n",
    "    \"timestamp\": datetime.datetime.now().strftime(\"%Y-%m-%d %H:%M:%S\"),\n",
    "    \"accuracy\": accuracy,\n",
    "    \"precision_low\": report_dict[\"1\"][\"precision\"],\n",
    "    \"recall_low\": report_dict[\"1\"][\"recall\"],\n",
    "    \"f1_low\": report_dict[\"1\"][\"f1-score\"],\n",
    "    \"precision_medium\": report_dict[\"2\"][\"precision\"],\n",
    "    \"recall_medium\": report_dict[\"2\"][\"recall\"],\n",
    "    \"f1_medium\": report_dict[\"2\"][\"f1-score\"],\n",
    "    \"precision_high\": report_dict[\"3\"][\"precision\"],\n",
    "    \"recall_high\": report_dict[\"3\"][\"recall\"],\n",
    "    \"f1_high\": report_dict[\"3\"][\"f1-score\"],\n",
    "    \"cv_mean_accuracy\": cv_mean,\n",
    "    \"cv_std_accuracy\": cv_std\n",
    "}\n",
    "\n",
    "df_performance = pd.DataFrame([performance_data])\n",
    "\n",
    "\n",
    "csv_filename = \"model_performance_log.csv\"\n",
    "try:\n",
    "    existing_data = pd.read_csv(csv_filename)\n",
    "    df_performance = pd.concat([existing_data, df_performance], ignore_index=True)\n",
    "except FileNotFoundError:\n",
    "    pass  \n",
    "\n",
    "df_performance.to_csv(csv_filename, index=False)\n",
    "\n",
    "df_performance.tail()\n",
    "\n"
   ]
  }
 ],
 "metadata": {
  "kernelspec": {
   "display_name": "Python 3",
   "language": "python",
   "name": "python3"
  },
  "language_info": {
   "codemirror_mode": {
    "name": "ipython",
    "version": 3
   },
   "file_extension": ".py",
   "mimetype": "text/x-python",
   "name": "python",
   "nbconvert_exporter": "python",
   "pygments_lexer": "ipython3",
   "version": "3.11.5"
  }
 },
 "nbformat": 4,
 "nbformat_minor": 2
}
