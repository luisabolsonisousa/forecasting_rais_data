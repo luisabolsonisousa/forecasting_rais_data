{
 "cells": [
  {
   "cell_type": "code",
   "execution_count": 11,
   "metadata": {},
   "outputs": [],
   "source": [
    "import numpy as np\n",
    "import pandas as pd"
   ]
  },
  {
   "cell_type": "code",
   "execution_count": 2,
   "metadata": {},
   "outputs": [
    {
     "name": "stdout",
     "output_type": "stream",
     "text": [
      "✅ Model performance is stable across all key metrics.\n"
     ]
    }
   ],
   "source": [
    "csv_path = \"/Users/bolsolui/Library/CloudStorage/OneDrive-adidas/Documents/personal/github/forecasting_rais_data/pipeline/train_ml/model_performance_log.csv\"\n",
    "\n",
    "try:\n",
    "\n",
    "    df_performance = pd.read_csv(csv_path)\n",
    "\n",
    "    if len(df_performance) > 1:\n",
    "        #get the latest and previous recorded metrics\n",
    "        last_metrics = df_performance.iloc[-1]\n",
    "        prev_metrics = df_performance.iloc[-2]\n",
    "\n",
    "        #define the metrics to check for drops\n",
    "        metrics_to_check = [\n",
    "            \"accuracy\",\n",
    "            \"precision_low\", \"recall_low\", \"f1_low\",\n",
    "            \"precision_medium\", \"recall_medium\", \"f1_medium\",\n",
    "            \"precision_high\", \"recall_high\", \"f1_high\"\n",
    "        ]\n",
    "\n",
    "        metric_alerts = {}\n",
    "\n",
    "        for metric in metrics_to_check:\n",
    "            last_value = last_metrics[metric]\n",
    "            prev_value = prev_metrics[metric]\n",
    "\n",
    "            #compute percentage drop\n",
    "            drop = ((prev_value - last_value) / prev_value) * 100\n",
    "\n",
    "            #alert if the drop is significant (>5%)\n",
    "            if drop > 5:\n",
    "                metric_alerts[metric] = round(drop, 2)\n",
    "\n",
    "\n",
    "        if metric_alerts:\n",
    "            print(f\"WARNING: Significant drop detected in metrics: {metric_alerts}. Consider retraining!\")\n",
    "        else:\n",
    "            print(\"Model performance is stable across all key metrics.\")\n",
    "\n",
    "    else:\n",
    "        print(\"Not enough historical data to compare performance.\")\n",
    "\n",
    "except FileNotFoundError:\n",
    "    print(f\"ERROR: Performance log file not found at {csv_path}. Make sure the file exists.\")\n"
   ]
  }
 ],
 "metadata": {
  "kernelspec": {
   "display_name": "Python 3",
   "language": "python",
   "name": "python3"
  },
  "language_info": {
   "codemirror_mode": {
    "name": "ipython",
    "version": 3
   },
   "file_extension": ".py",
   "mimetype": "text/x-python",
   "name": "python",
   "nbconvert_exporter": "python",
   "pygments_lexer": "ipython3",
   "version": "3.11.5"
  }
 },
 "nbformat": 4,
 "nbformat_minor": 2
}
